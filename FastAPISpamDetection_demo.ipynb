{
  "nbformat": 4,
  "nbformat_minor": 0,
  "metadata": {
    "colab": {
      "name": "FastAPISpamDetection_demo.ipynb",
      "provenance": [],
      "collapsed_sections": []
    },
    "kernelspec": {
      "name": "python3",
      "display_name": "Python 3"
    },
    "language_info": {
      "name": "python"
    }
  },
  "cells": [
    {
      "cell_type": "markdown",
      "metadata": {
        "id": "ifsg-BoNesRr"
      },
      "source": [
        "# FastAPISpamDetection\n",
        "\n",
        "\n",
        "1.   Clone from git\n",
        "2.   Install requirements\n",
        "\n",
        "\n"
      ]
    },
    {
      "cell_type": "code",
      "metadata": {
        "colab": {
          "base_uri": "https://localhost:8080/"
        },
        "id": "yF7qu7OYm2oy",
        "outputId": "be89d0bd-4281-47bb-a0cb-b8089d64028e"
      },
      "source": [
        "!git clone --branch Docker https://github.com/diana-corona/FastAPISpamDetection.git "
      ],
      "execution_count": null,
      "outputs": [
        {
          "output_type": "stream",
          "name": "stdout",
          "text": [
            "Cloning into 'FastAPISpamDetection'...\n",
            "remote: Enumerating objects: 188, done.\u001b[K\n",
            "remote: Counting objects: 100% (78/78), done.\u001b[K\n",
            "remote: Compressing objects: 100% (36/36), done.\u001b[K\n",
            "remote: Total 188 (delta 47), reused 65 (delta 40), pack-reused 110\u001b[K\n",
            "Receiving objects: 100% (188/188), 57.95 MiB | 3.18 MiB/s, done.\n",
            "Resolving deltas: 100% (82/82), done.\n"
          ]
        }
      ]
    },
    {
      "cell_type": "code",
      "metadata": {
        "colab": {
          "base_uri": "https://localhost:8080/"
        },
        "id": "CrzIeN6L5kW-",
        "outputId": "b96efa6e-3c4d-4f3a-efa8-80adf0029f1c"
      },
      "source": [
        "cd FastAPISpamDetection"
      ],
      "execution_count": null,
      "outputs": [
        {
          "output_type": "stream",
          "name": "stdout",
          "text": [
            "/content/FastAPISpamDetection\n"
          ]
        }
      ]
    },
    {
      "cell_type": "code",
      "metadata": {
        "colab": {
          "base_uri": "https://localhost:8080/"
        },
        "id": "Hm3JNI2vhoMC",
        "outputId": "46b1013e-78de-4287-8a9b-4ef682584b21"
      },
      "source": [
        "cd app"
      ],
      "execution_count": null,
      "outputs": [
        {
          "output_type": "stream",
          "name": "stdout",
          "text": [
            "/content/FastAPISpamDetection/app\n"
          ]
        }
      ]
    },
    {
      "cell_type": "code",
      "metadata": {
        "colab": {
          "base_uri": "https://localhost:8080/",
          "height": 1000
        },
        "id": "0mW3xCoDAuwm",
        "outputId": "bdb1413e-50a2-4054-aa10-4608fc51def8"
      },
      "source": [
        "!pip3 install -r requirements.txt \n"
      ],
      "execution_count": null,
      "outputs": [
        {
          "output_type": "stream",
          "name": "stdout",
          "text": [
            "Collecting scikit-learn==0.24.2\n",
            "  Downloading scikit_learn-0.24.2-cp37-cp37m-manylinux2010_x86_64.whl (22.3 MB)\n",
            "\u001b[K     |████████████████████████████████| 22.3 MB 2.1 MB/s \n",
            "\u001b[?25hCollecting numpy==1.17.3\n",
            "  Downloading numpy-1.17.3-cp37-cp37m-manylinux1_x86_64.whl (20.0 MB)\n",
            "\u001b[K     |████████████████████████████████| 20.0 MB 1.3 MB/s \n",
            "\u001b[?25hCollecting pandas==1.3.2\n",
            "  Downloading pandas-1.3.2-cp37-cp37m-manylinux_2_17_x86_64.manylinux2014_x86_64.whl (11.3 MB)\n",
            "\u001b[K     |████████████████████████████████| 11.3 MB 58.0 MB/s \n",
            "\u001b[?25hCollecting nltk==3.6.2\n",
            "  Downloading nltk-3.6.2-py3-none-any.whl (1.5 MB)\n",
            "\u001b[K     |████████████████████████████████| 1.5 MB 36.9 MB/s \n",
            "\u001b[?25hRequirement already satisfied: joblib==1.0.1 in /usr/local/lib/python3.7/dist-packages (from -r requirements.txt (line 5)) (1.0.1)\n",
            "Collecting FastAPI\n",
            "  Downloading fastapi-0.68.2-py3-none-any.whl (52 kB)\n",
            "\u001b[K     |████████████████████████████████| 52 kB 1.1 MB/s \n",
            "\u001b[?25hRequirement already satisfied: scipy>=0.19.1 in /usr/local/lib/python3.7/dist-packages (from scikit-learn==0.24.2->-r requirements.txt (line 1)) (1.4.1)\n",
            "Collecting threadpoolctl>=2.0.0\n",
            "  Downloading threadpoolctl-3.0.0-py3-none-any.whl (14 kB)\n",
            "Requirement already satisfied: python-dateutil>=2.7.3 in /usr/local/lib/python3.7/dist-packages (from pandas==1.3.2->-r requirements.txt (line 3)) (2.8.2)\n",
            "Requirement already satisfied: pytz>=2017.3 in /usr/local/lib/python3.7/dist-packages (from pandas==1.3.2->-r requirements.txt (line 3)) (2018.9)\n",
            "Requirement already satisfied: regex in /usr/local/lib/python3.7/dist-packages (from nltk==3.6.2->-r requirements.txt (line 4)) (2019.12.20)\n",
            "Requirement already satisfied: tqdm in /usr/local/lib/python3.7/dist-packages (from nltk==3.6.2->-r requirements.txt (line 4)) (4.62.3)\n",
            "Requirement already satisfied: click in /usr/local/lib/python3.7/dist-packages (from nltk==3.6.2->-r requirements.txt (line 4)) (7.1.2)\n",
            "Requirement already satisfied: six>=1.5 in /usr/local/lib/python3.7/dist-packages (from python-dateutil>=2.7.3->pandas==1.3.2->-r requirements.txt (line 3)) (1.15.0)\n",
            "Collecting starlette==0.14.2\n",
            "  Downloading starlette-0.14.2-py3-none-any.whl (60 kB)\n",
            "\u001b[K     |████████████████████████████████| 60 kB 7.6 MB/s \n",
            "\u001b[?25hCollecting pydantic!=1.7,!=1.7.1,!=1.7.2,!=1.7.3,!=1.8,!=1.8.1,<2.0.0,>=1.6.2\n",
            "  Downloading pydantic-1.8.2-cp37-cp37m-manylinux2014_x86_64.whl (10.1 MB)\n",
            "\u001b[K     |████████████████████████████████| 10.1 MB 37.6 MB/s \n",
            "\u001b[?25hRequirement already satisfied: typing-extensions>=3.7.4.3 in /usr/local/lib/python3.7/dist-packages (from pydantic!=1.7,!=1.7.1,!=1.7.2,!=1.7.3,!=1.8,!=1.8.1,<2.0.0,>=1.6.2->FastAPI->-r requirements.txt (line 6)) (3.7.4.3)\n",
            "Installing collected packages: numpy, threadpoolctl, starlette, pydantic, scikit-learn, pandas, nltk, FastAPI\n",
            "  Attempting uninstall: numpy\n",
            "    Found existing installation: numpy 1.19.5\n",
            "    Uninstalling numpy-1.19.5:\n",
            "      Successfully uninstalled numpy-1.19.5\n",
            "  Attempting uninstall: scikit-learn\n",
            "    Found existing installation: scikit-learn 0.22.2.post1\n",
            "    Uninstalling scikit-learn-0.22.2.post1:\n",
            "      Successfully uninstalled scikit-learn-0.22.2.post1\n",
            "  Attempting uninstall: pandas\n",
            "    Found existing installation: pandas 1.1.5\n",
            "    Uninstalling pandas-1.1.5:\n",
            "      Successfully uninstalled pandas-1.1.5\n",
            "  Attempting uninstall: nltk\n",
            "    Found existing installation: nltk 3.2.5\n",
            "    Uninstalling nltk-3.2.5:\n",
            "      Successfully uninstalled nltk-3.2.5\n",
            "\u001b[31mERROR: pip's dependency resolver does not currently take into account all the packages that are installed. This behaviour is the source of the following dependency conflicts.\n",
            "tensorflow 2.6.0 requires numpy~=1.19.2, but you have numpy 1.17.3 which is incompatible.\n",
            "kapre 0.3.5 requires numpy>=1.18.5, but you have numpy 1.17.3 which is incompatible.\n",
            "jaxlib 0.1.71+cuda111 requires numpy>=1.18, but you have numpy 1.17.3 which is incompatible.\n",
            "jax 0.2.21 requires numpy>=1.18, but you have numpy 1.17.3 which is incompatible.\n",
            "google-colab 1.0.0 requires pandas~=1.1.0; python_version >= \"3.0\", but you have pandas 1.3.2 which is incompatible.\n",
            "datascience 0.10.6 requires folium==0.2.1, but you have folium 0.8.3 which is incompatible.\n",
            "albumentations 0.1.12 requires imgaug<0.2.7,>=0.2.5, but you have imgaug 0.2.9 which is incompatible.\u001b[0m\n",
            "Successfully installed FastAPI-0.68.2 nltk-3.6.2 numpy-1.17.3 pandas-1.3.2 pydantic-1.8.2 scikit-learn-0.24.2 starlette-0.14.2 threadpoolctl-3.0.0\n"
          ]
        },
        {
          "output_type": "display_data",
          "data": {
            "application/vnd.colab-display-data+json": {
              "pip_warning": {
                "packages": [
                  "numpy",
                  "pandas"
                ]
              }
            }
          },
          "metadata": {}
        }
      ]
    },
    {
      "cell_type": "markdown",
      "metadata": {
        "id": "hUZzSguXe7On"
      },
      "source": [
        "# Train MLPClassifier"
      ]
    },
    {
      "cell_type": "code",
      "metadata": {
        "colab": {
          "base_uri": "https://localhost:8080/"
        },
        "id": "ZoZ-K27VhqTq",
        "outputId": "cf01b9fd-73a1-4c2b-efff-d67838d4b080"
      },
      "source": [
        "!python training/train_spam_detector_MLPClassifier.py"
      ],
      "execution_count": null,
      "outputs": [
        {
          "output_type": "stream",
          "name": "stdout",
          "text": [
            "              precision    recall  f1-score   support\n",
            "\n",
            "         ham       0.99      1.00      0.99       969\n",
            "        spam       0.97      0.90      0.94       146\n",
            "\n",
            "    accuracy                           0.98      1115\n",
            "   macro avg       0.98      0.95      0.96      1115\n",
            "weighted avg       0.98      0.98      0.98      1115\n",
            "\n",
            "MLPClassifier Accuracy : 98.38565022421525 %\n"
          ]
        }
      ]
    },
    {
      "cell_type": "markdown",
      "metadata": {
        "id": "B8KQc2LtfC1I"
      },
      "source": [
        "# Train KNeighbors"
      ]
    },
    {
      "cell_type": "code",
      "metadata": {
        "colab": {
          "base_uri": "https://localhost:8080/"
        },
        "id": "8j6XdOevKI07",
        "outputId": "ff6fa3b2-a605-40c6-ed8a-f4c7e7370517"
      },
      "source": [
        "!python training/train_spam_detector_KNeighborsClassifier.py"
      ],
      "execution_count": null,
      "outputs": [
        {
          "output_type": "stream",
          "name": "stdout",
          "text": [
            "              precision    recall  f1-score   support\n",
            "\n",
            "         ham       0.93      1.00      0.96       969\n",
            "        spam       0.99      0.50      0.66       146\n",
            "\n",
            "    accuracy                           0.93      1115\n",
            "   macro avg       0.96      0.75      0.81      1115\n",
            "weighted avg       0.94      0.93      0.92      1115\n",
            "\n",
            "kNeighbors Accuracy : 93.36322869955157 %\n"
          ]
        }
      ]
    },
    {
      "cell_type": "markdown",
      "metadata": {
        "id": "Bxt7lYt5mNCD"
      },
      "source": [
        "# Train DecisionTreeClassifier"
      ]
    },
    {
      "cell_type": "code",
      "metadata": {
        "colab": {
          "base_uri": "https://localhost:8080/"
        },
        "id": "WBWSIDqClni6",
        "outputId": "a01917b7-e965-4b00-985d-0e586e613b78"
      },
      "source": [
        "!python training/train_spam_detector_DecisionTreeClassifier.py"
      ],
      "execution_count": null,
      "outputs": [
        {
          "output_type": "stream",
          "name": "stdout",
          "text": [
            "              precision    recall  f1-score   support\n",
            "\n",
            "         ham       0.97      0.98      0.98       969\n",
            "        spam       0.88      0.82      0.85       146\n",
            "\n",
            "    accuracy                           0.96      1115\n",
            "   macro avg       0.93      0.90      0.91      1115\n",
            "weighted avg       0.96      0.96      0.96      1115\n",
            "\n",
            "DecisionTree Accuracy : 96.14349775784753 %\n"
          ]
        }
      ]
    },
    {
      "cell_type": "markdown",
      "metadata": {
        "id": "pvSiDR7hokNj"
      },
      "source": [
        "# Train RandomForestClassifier\n"
      ]
    },
    {
      "cell_type": "code",
      "metadata": {
        "colab": {
          "base_uri": "https://localhost:8080/"
        },
        "id": "KpKIhq0-oosK",
        "outputId": "525c2dc8-bc5a-4952-f35f-d481b5717d3a"
      },
      "source": [
        "!python training/train_spam_detector_RandomForestClassifier.py"
      ],
      "execution_count": null,
      "outputs": [
        {
          "output_type": "stream",
          "name": "stdout",
          "text": [
            "              precision    recall  f1-score   support\n",
            "\n",
            "         ham       0.97      1.00      0.98       969\n",
            "        spam       0.97      0.77      0.86       146\n",
            "\n",
            "    accuracy                           0.97      1115\n",
            "   macro avg       0.97      0.89      0.92      1115\n",
            "weighted avg       0.97      0.97      0.97      1115\n",
            "\n",
            "DecisionTree Accuracy : 96.7713004484305 %\n"
          ]
        }
      ]
    },
    {
      "cell_type": "markdown",
      "metadata": {
        "id": "GSFdirWKfL3y"
      },
      "source": [
        "# Use models\n",
        "\n"
      ]
    },
    {
      "cell_type": "code",
      "metadata": {
        "id": "n09141PFeirI"
      },
      "source": [
        "from classify_message import classify_message\n",
        "import joblib"
      ],
      "execution_count": null,
      "outputs": []
    },
    {
      "cell_type": "code",
      "metadata": {
        "id": "PvBj_zUpk6Kd"
      },
      "source": [
        "model = joblib.load('models/spam_classifier_MLPClassifier.joblib')"
      ],
      "execution_count": null,
      "outputs": []
    },
    {
      "cell_type": "code",
      "metadata": {
        "colab": {
          "base_uri": "https://localhost:8080/"
        },
        "id": "CY31rkL0ijlh",
        "outputId": "813e5bcd-0f5a-4b96-a607-5c504af9e77e"
      },
      "source": [
        "classify_message(model,\"message\")"
      ],
      "execution_count": null,
      "outputs": [
        {
          "output_type": "execute_result",
          "data": {
            "text/plain": [
              "{'label': 'ham', 'spam_probability': 0.04893929703513214}"
            ]
          },
          "metadata": {},
          "execution_count": 17
        }
      ]
    }
  ]
}